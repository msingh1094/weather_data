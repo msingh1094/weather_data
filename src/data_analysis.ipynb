{
 "cells": [
  {
   "cell_type": "markdown",
   "metadata": {},
   "source": [
    "Weather Data Analysis\n",
    " \n",
    "This notebook fetches weather data from a PostgreSQL database, processes it, and calculates yearly statistics.\n",
    "Imports We'll start by importing necessary libraries."
   ]
  },
  {
   "cell_type": "code",
   "execution_count": 32,
   "metadata": {},
   "outputs": [],
   "source": [
    "import os\n",
    "import psycopg2\n",
    "import pandas as pd\n",
    "from dotenv import load_dotenv"
   ]
  },
  {
   "cell_type": "markdown",
   "metadata": {},
   "source": [
    "# Load Environment Variables\n",
    "We'll load database connection details from a `.env` file to keep sensitive information secure.\n",
    "Load environment variables from .env file"
   ]
  },
  {
   "cell_type": "code",
   "execution_count": 33,
   "metadata": {},
   "outputs": [],
   "source": [
    "load_dotenv()\n",
    "\n",
    "# Construct the database connection string from environment variables\n",
    "DATABASE_URL = f\"postgresql://{os.getenv('DB_USER')}:{os.getenv('DB_PASSWORD')}@{os.getenv('DB_HOST')}:{os.getenv('DB_PORT')}/{os.getenv('DB_NAME')}\""
   ]
  },
  {
   "cell_type": "markdown",
   "metadata": {},
   "source": [
    "Connect to the Database\n",
    "We will establish a connection to the PostgreSQL database.\n",
    "Connect to the database"
   ]
  },
  {
   "cell_type": "code",
   "execution_count": 34,
   "metadata": {},
   "outputs": [],
   "source": [
    "# Connect to the database\n",
    "conn = psycopg2.connect(DATABASE_URL)\n",
    "cur = conn.cursor()"
   ]
  },
  {
   "cell_type": "code",
   "execution_count": 35,
   "metadata": {},
   "outputs": [],
   "source": [
    "# Fetch weather data from the database\n",
    "cur.execute(\"SELECT * FROM weather_data\")\n",
    "weather_data = cur.fetchall()"
   ]
  },
  {
   "cell_type": "code",
   "execution_count": 36,
   "metadata": {},
   "outputs": [],
   "source": [
    "# Fetch weather data from the database (ignore rows with NULL values for statistics)\n",
    "cur.execute(\"\"\" \n",
    "    SELECT station_id, date, max_temp, min_temp, precipitation\n",
    "    FROM weather_data\n",
    "    WHERE max_temp IS NOT NULL \n",
    "      AND min_temp IS NOT NULL \n",
    "      AND precipitation IS NOT NULL\n",
    "\"\"\")\n",
    "weather_data = cur.fetchall()"
   ]
  },
  {
   "cell_type": "code",
   "execution_count": 37,
   "metadata": {},
   "outputs": [],
   "source": [
    "weather_df = pd.DataFrame(weather_data, columns=['station_id', 'date', 'max_temp', 'min_temp', 'precipitation']).sort_values(by='date')"
   ]
  },
  {
   "cell_type": "code",
   "execution_count": 38,
   "metadata": {},
   "outputs": [],
   "source": [
    "weather_df['date'] = pd.to_datetime(weather_df['date'])\n",
    "weather_df['year'] = weather_df['date'].dt.year"
   ]
  },
  {
   "cell_type": "code",
   "execution_count": 39,
   "metadata": {},
   "outputs": [],
   "source": [
    "weather_df['precipitation'] = weather_df['precipitation'] / 10.0"
   ]
  },
  {
   "cell_type": "code",
   "execution_count": 40,
   "metadata": {},
   "outputs": [],
   "source": [
    "# We'll calculate the average maximum temperature, average minimum temperature, and total precipitation for each station by year.\n",
    "\n",
    "# %%\n",
    "yearly_stats_df = weather_df.groupby(['station_id', 'year']).agg(\n",
    "    avg_max_temp=('max_temp', 'mean'),\n",
    "    avg_min_temp=('min_temp', 'mean'),\n",
    "    total_precipitation=('precipitation', 'sum')\n",
    ").reset_index()"
   ]
  },
  {
   "cell_type": "code",
   "execution_count": 41,
   "metadata": {},
   "outputs": [],
   "source": [
    "# Finally, we'll insert the calculated yearly statistics into the `yearly_weather_stats` table, updating existing records if necessary.\n",
    "\n",
    "# %%\n",
    "for index, row in yearly_stats_df.iterrows():\n",
    "    cur.execute(\"\"\" \n",
    "        INSERT INTO yearly_weather_stats (station_id, year, avg_max_temp, avg_min_temp, total_precipitation)\n",
    "        VALUES (%s, %s, %s, %s, %s)\n",
    "        ON CONFLICT (station_id, year) DO UPDATE \n",
    "        SET avg_max_temp = EXCLUDED.avg_max_temp, \n",
    "            avg_min_temp = EXCLUDED.avg_min_temp, \n",
    "            total_precipitation = EXCLUDED.total_precipitation;\n",
    "    \"\"\", (row['station_id'], row['year'], row['avg_max_temp'], row['avg_min_temp'], row['total_precipitation']))\n",
    "\n",
    "# Commit the transaction and close the connection\n",
    "conn.commit()\n",
    "cur.close()\n",
    "conn.close()"
   ]
  }
 ],
 "metadata": {
  "language_info": {
   "name": "python"
  }
 },
 "nbformat": 4,
 "nbformat_minor": 2
}
